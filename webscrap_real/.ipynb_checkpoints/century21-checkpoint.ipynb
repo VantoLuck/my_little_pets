{
 "cells": [
  {
   "cell_type": "markdown",
   "metadata": {},
   "source": [
    "import requests\n",
    "from bs4 import BeautifulSoup\n",
    "\n",
    "r = requests.get(\"https://pythonhow.com/real-estate/rock-springs-wy/LCWYROCKSPRINGS/\")\n",
    "c = r.content\n",
    "\n",
    "soup = BeautifulSoup(c, \"html.parser\")\n",
    "\n",
    "all = soup.find_all(\"div\", {\"class\":\"propertyRow\"})\n",
    "\n",
    "all[0].find(\"h4\", {\"class\":\"propPrice\"}).text.replace(\"\\n\", \"\")\n",
    "\n",
    "page_nr = soup.find_all(\"a\", {\"class\":\"Page\"})[-1].text\n",
    "print(page_nr)"
   ]
  },
  {
   "cell_type": "markdown",
   "metadata": {},
   "source": [
    "l = []\n",
    "base_url = \"https://pythonhow.com/real-estate/rock-springs-wy/LCWYROCKSPRINGS/t=0&s={}{}\"\n",
    "for page in range(0, int(page_nr) * 10, 10):\n",
    "    r = requests.get(base_url.format(str(page), \".html\"))\n",
    "    c = r.content\n",
    "    soup = BeautifulSoup(c, \"html.parser\")\n",
    "    all = soup.find_all(\"div\", {\"class\":\"propertyRow\"})\n",
    "    for item in all:\n",
    "        d = {}\n",
    "        d[\"Address\"] = item.find_all(\"span\", {\"class\":\"propAddressCollapse\"})[0].text\n",
    "        try:\n",
    "            d[\"Locality\"] = item.find_all(\"span\", {\"class\":\"propAddressCollapse\"})[1].text\n",
    "        except:\n",
    "            d[\"Locality\"] = None\n",
    "        d[\"Price\"]= item.find(\"h4\", {\"class\":\"propPrice\"}).text.replace(\"\\n\",\"\")\n",
    "        try:\n",
    "            d[\"Beds\"] = item.find(\"span\", {\"class\":\"infoBed\"}).find(\"b\").text\n",
    "        except:\n",
    "            d[\"Bads\"] = None\n",
    "\n",
    "        try:\n",
    "            d[\"Area\"] = item.find(\"span\", {\"class\":\"infoSqFt\"}).find(\"b\").text\n",
    "        except:\n",
    "            d[\"Area\"] = None\n",
    "\n",
    "        try:\n",
    "            d[\"Full Baths\"] = item.find(\"span\", {\"class\":\"infoValueFullBath\"}).find(\"b\").text\n",
    "        except:\n",
    "            d[\"Full Baths\"] = None\n",
    "\n",
    "        try:\n",
    "            d[\"Half Baths\"] = item.find(\"span\", {\"class\":\"infoValueHalfBath\"}).find(\"b\").text\n",
    "        except:\n",
    "            d[\"Half Baths\"] = None\n",
    "\n",
    "        for column_group in item.find_all(\"div\", {\"class\":\"columnGroup\"}):\n",
    "            for feature_group, feature_name in zip(column_group.find_all(\"span\", {\"class\":\"featureGroup\"}), column_group.find_all(\"span\",{\"class\":\"featureName\"})):\n",
    "                if \"Lot Size\" in feature_group.text:\n",
    "                    d[\"Lot Size\"] = feature_name.text  \n",
    "        l.append(d)     \n",
    "\n",
    "l\n",
    "    "
   ]
  },
  {
   "cell_type": "markdown",
   "metadata": {},
   "source": [
    "import pandas\n",
    "\n",
    "df = pandas.DataFrame(l, )\n",
    "df"
   ]
  },
  {
   "cell_type": "markdown",
   "metadata": {},
   "source": [
    "df.to_csv(\"Output.csv\")"
   ]
  }
 ],
 "metadata": {
  "kernelspec": {
   "display_name": "Python 3",
   "language": "python",
   "name": "python3"
  },
  "language_info": {
   "codemirror_mode": {
    "name": "ipython",
    "version": 3
   },
   "file_extension": ".py",
   "mimetype": "text/x-python",
   "name": "python",
   "nbconvert_exporter": "python",
   "pygments_lexer": "ipython3",
   "version": "3.7.0"
  }
 },
 "nbformat": 4,
 "nbformat_minor": 2
}
